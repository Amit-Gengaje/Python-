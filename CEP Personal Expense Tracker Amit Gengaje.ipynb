{
 "cells": [
  {
   "cell_type": "markdown",
   "id": "d2315928-2eaf-4e05-b602-fc247c6e53b8",
   "metadata": {},
   "source": [
    "# Personal Expense Tracker Project - Amit Gengaje"
   ]
  },
  {
   "cell_type": "markdown",
   "id": "7bec5d8e-9bf5-4d20-bd70-0292a3e97a14",
   "metadata": {},
   "source": [
    "#### 1. Wrote a function to prompt the user for expense details that asks for:\n",
    "\n",
    "o The date of the expense in the format YYYY-MM-DD \n",
    "\n",
    "o The category of the expense, such as Food or Travel \n",
    "\n",
    "o The amount spent \n",
    "\n",
    "o A brief description of the expense\n",
    "\n",
    "• Stored the expense in a list as a dictionary, where each dictionary includes the date, category, amount, and description as key-value pairs"
   ]
  },
  {
   "cell_type": "code",
   "execution_count": 82,
   "id": "cdc2f3fd-f693-423b-ba3f-c41e1cb35381",
   "metadata": {},
   "outputs": [],
   "source": [
    "import csv \n",
    "\n",
    "def add_expense (expenses):\n",
    "    date = input('Enter the date (YYYY-MM-DD): ')\n",
    "    category = input('Enter the category e.g. Food/Travel: ')\n",
    "    amount = input('Enter the amount: ')\n",
    "    description = input('Enter a description: ')\n",
    "    expenses.append({\n",
    "        'date': date,\n",
    "        'category': category,\n",
    "        'amount': amount,\n",
    "        'description': description\n",
    "    })\n",
    "    print('Expense added successfully.')"
   ]
  },
  {
   "cell_type": "markdown",
   "id": "3a42b637-8cc6-4204-b900-aff515c6ca9d",
   "metadata": {},
   "source": [
    "#### 2. View expenses:\n",
    "\n",
    "• Wrote A function to retrieve and display all stored expenses \n",
    "\n",
    "o The function loops through the list of expenses and displays the date, category, amount, and description for each entry"
   ]
  },
  {
   "cell_type": "code",
   "execution_count": 84,
   "id": "13145a57-1c61-4b66-a501-a4f96dbac4a2",
   "metadata": {},
   "outputs": [],
   "source": [
    "def view_expenses(expenses):\n",
    "    if not expenses:\n",
    "        print('No expenses recorded.')\n",
    "    else:\n",
    "        for expense in expenses:\n",
    "            if all(key in expense for key in ['date', 'category', 'amount', 'description']):\n",
    "                print(f\"Date: {expense['date']}, Category: {expense['category']}, Amount: {expense['amount']}, Description: {expense['description']}\")\n",
    "            else:\n",
    "                print(f\"Invalid expense record: {expense}\")    "
   ]
  },
  {
   "cell_type": "markdown",
   "id": "ba3e6747-b786-46a8-b8f8-17f40a6f998d",
   "metadata": {},
   "source": [
    "#### 3. Set the budget:\n",
    "\n",
    "• Created a function that allows the user to input a monthly budget. Prompted the user to: Enter the total amount they want to budget for the month"
   ]
  },
  {
   "cell_type": "code",
   "execution_count": 86,
   "id": "766f1321-ca96-4810-be28-bd5e24148c05",
   "metadata": {},
   "outputs": [],
   "source": [
    "def set_budget():\n",
    "    budget = float(input('Enter your monthly budget: '))\n",
    "    return budget"
   ]
  },
  {
   "cell_type": "markdown",
   "id": "d5187d38-48e4-4fcf-9c09-c2f7fa73c390",
   "metadata": {},
   "source": [
    "#### 4. Track the budget:\n",
    "\n",
    "• Created a function that calculates the total expenses recorded so far\n",
    "\n",
    "o Compared the total with the user’s monthly budget \n",
    "\n",
    "o If the total expenses exceed the budget, wrote a code to display a warning \"You have exceeded your budget!\" \n",
    "\n",
    "o If the expenses are within the budget, wrote a code to display the remaining balance \"You have {} left for the month\""
   ]
  },
  {
   "cell_type": "code",
   "execution_count": 90,
   "id": "ebae8003-a0e5-4c41-8ccb-97399aa588b6",
   "metadata": {},
   "outputs": [],
   "source": [
    "def track_budget(expenses, budget):\n",
    "    total_expenses = sum(expense['amount'] for expense in expenses)\n",
    "    print(f\"Total expenses: {total_expenses}\")\n",
    "    if total_expenses > budget:\n",
    "        print('Warning: You have exceeded your budget!')\n",
    "    else:\n",
    "        print(f\"You are within your budget. You have {budget - total_expense} remaining.\")"
   ]
  },
  {
   "cell_type": "markdown",
   "id": "e04f4955-fafb-4ce8-bbbd-c37a03a6394d",
   "metadata": {},
   "source": [
    "#### 5. Save Expenses:\n",
    "\n",
    "• Implemented a function to save all expenses to a CSV file, with each row containing the date, category, amount, and description of each expense"
   ]
  },
  {
   "cell_type": "code",
   "execution_count": 107,
   "id": "de136306-8670-4b50-8758-3574209452af",
   "metadata": {},
   "outputs": [],
   "source": [
    "def save_expenses(expense, filename='expenses.csv'):\n",
    "    with open(filename, 'w', newline='') as file:\n",
    "        writer = csv.writer(file)\n",
    "        writer.writerow(['Date', 'Category', 'Amount', 'Description'])\n",
    "        for expense in expenses:\n",
    "            writer.writerow([expense['date'], expense['category'], expense['amount'], expense['description']])\n",
    "    print('Expenses saved successully.')"
   ]
  },
  {
   "cell_type": "markdown",
   "id": "7e6618a0-27a2-41ad-b14c-ae9190ff8b42",
   "metadata": {},
   "source": [
    "#### 5.1. Load expenses\n",
    "\n",
    "• Created another function to load expenses from the CSV file. When the program starts, it:\n",
    "\n",
    "o Reads the saved data from the file \n",
    "\n",
    "o Loads it back into the list of expenses so the user can see their previous expenses and continue from where they left off"
   ]
  },
  {
   "cell_type": "code",
   "execution_count": 119,
   "id": "ffd60aa0-495b-4de2-98b6-e20bf38d86bc",
   "metadata": {},
   "outputs": [],
   "source": [
    "def load_expenses(filename='expenses.csv'):\n",
    "\n",
    "    expenses = []\n",
    "    try:\n",
    "        with open(filename, 'r') as file:\n",
    "            reader = csv.DictReader(file)\n",
    "            for row in reader:\n",
    "                if all(key in row for key in ['Date', 'Category', 'Amount', 'Description']):\n",
    "                    row['amount'] = float(row['amount'])\n",
    "                    expense = {\n",
    "                    'date': row['Date'],\n",
    "                    'cateogry': row['Category'],\n",
    "                    'amount': row['amount'],\n",
    "                    'description': row['Description']\n",
    "                }\n",
    "                expenses.append(expense)\n",
    "            else:\n",
    "                print(f\"Skipping invalid expense record: {row}\")\n",
    "    except FileNotFoundError:\n",
    "        print(f\"Error: File '{filename}' not found.\")\n",
    "\n",
    "    return expenses"
   ]
  },
  {
   "cell_type": "markdown",
   "id": "bc8eec1f-a2b3-4582-bd78-f6fce6caaefb",
   "metadata": {},
   "source": [
    "#### 6. Create an interactive menu:\n",
    "\n",
    "• Built a function to display a menu with the following options:\n",
    "\n",
    "o Add expense \n",
    "o View expenses \n",
    "o Track budget \n",
    "o Save expenses \n",
    "o Exit \n",
    "\n",
    "• Allowed the user to enter a number to choose an option\n",
    "\n",
    "• Implemented the following conditions:\n",
    "\n",
    "o If the user selects option 1, call the function to add an expense \n",
    "\n",
    "o If the user selects option 2, call the function to view expenses \n",
    "\n",
    "o If the user selects option 3, call the function to track the budget \n",
    "\n",
    "o If the user selects option 4, call the function to save expenses to the file \n",
    "\n",
    "o If the user selects option 5, save the expenses and exit the program"
   ]
  },
  {
   "cell_type": "code",
   "execution_count": null,
   "id": "8e64e00a-c8c9-4812-ba98-bad2d3803934",
   "metadata": {},
   "outputs": [
    {
     "name": "stdout",
     "output_type": "stream",
     "text": [
      "Error: File 'expenses.csv' not found.\n"
     ]
    },
    {
     "name": "stdin",
     "output_type": "stream",
     "text": [
      "Enter your monthly budget:  2000\n"
     ]
    },
    {
     "name": "stdout",
     "output_type": "stream",
     "text": [
      "\n",
      "Personal Expense Tracker\n",
      "1. Add Expense\n",
      "2. View Expenses\n",
      "3. Track Budget\n",
      "4. Save Expenses\n",
      "5. Exit\n"
     ]
    },
    {
     "name": "stdin",
     "output_type": "stream",
     "text": [
      "Enter your choice:  1\n",
      "Enter the date (YYYY-MM-DD):  2024-10-18\n",
      "Enter the category e.g. Food/Travel:  Food\n"
     ]
    }
   ],
   "source": [
    "def main():\n",
    "    expenses = load_expenses()\n",
    "    budget = set_budget()\n",
    "    while True:\n",
    "        print('\\nPersonal Expense Tracker')\n",
    "        print('1. Add Expense')\n",
    "        print('2. View Expenses')\n",
    "        print('3. Track Budget')\n",
    "        print('4. Save Expenses')\n",
    "        print('5. Exit')\n",
    "        choice = input('Enter your choice: ')\n",
    "       \n",
    "        if choice == '1':\n",
    "            add_expense(expenses)\n",
    "        elif choice =='2':\n",
    "            view_expenses(expenses)\n",
    "        elif choice =='3':\n",
    "            track_budget(expenses, budget)\n",
    "        elif choice =='4':\n",
    "            save_expenses(expenses)\n",
    "        elif choice =='5':\n",
    "            save_expenses(expenses)\n",
    "            print('Exiting...')\n",
    "            break\n",
    "        else:\n",
    "            print('Invalid choice, please select a valid option.')\n",
    "\n",
    "if __name__ == '__main__':\n",
    "    main()"
   ]
  }
 ],
 "metadata": {
  "kernelspec": {
   "display_name": "Python 3 (ipykernel)",
   "language": "python",
   "name": "python3"
  },
  "language_info": {
   "codemirror_mode": {
    "name": "ipython",
    "version": 3
   },
   "file_extension": ".py",
   "mimetype": "text/x-python",
   "name": "python",
   "nbconvert_exporter": "python",
   "pygments_lexer": "ipython3",
   "version": "3.12.4"
  }
 },
 "nbformat": 4,
 "nbformat_minor": 5
}
